{
 "cells": [
  {
   "attachments": {},
   "cell_type": "markdown",
   "id": "9a57c4c6",
   "metadata": {},
   "source": [
    "# Eat Safe, Love"
   ]
  },
  {
   "attachments": {},
   "cell_type": "markdown",
   "id": "064ef857",
   "metadata": {},
   "source": [
    "## Part 1: Database and Jupyter Notebook Set Up"
   ]
  },
  {
   "attachments": {},
   "cell_type": "markdown",
   "id": "664e3c1f",
   "metadata": {},
   "source": [
    "Import the data provided in the `establishments.json` file from your Terminal. Name the database `uk_food` and the collection `establishments`.\n",
    "\n",
    "Within this markdown cell, copy the line of text you used to import the data from your Terminal. This way, future analysts will be able to repeat your process.\n",
    "\n",
    "e.g.: Import the dataset with `YOUR IMPORT TEXT HERE`"
   ]
  },
  {
   "attachments": {},
   "cell_type": "markdown",
   "id": "3df4debb",
   "metadata": {},
   "source": [
    "Import the dataset with : mongoimport --type json -d uk_food -c establishments --drop --jsonArray establishments.json"
   ]
  },
  {
   "cell_type": "code",
   "execution_count": 82,
   "id": "3ecdd008",
   "metadata": {},
   "outputs": [],
   "source": [
    "# Import dependencies\n",
    "from pymongo import MongoClient\n",
    "from pprint import pprint"
   ]
  },
  {
   "cell_type": "code",
   "execution_count": 83,
   "id": "59390c4a",
   "metadata": {},
   "outputs": [],
   "source": [
    "# Create an instance of MongoClient\n",
    "mongo = MongoClient(port=27017)"
   ]
  },
  {
   "cell_type": "code",
   "execution_count": 84,
   "id": "7f9ececa",
   "metadata": {},
   "outputs": [
    {
     "name": "stdout",
     "output_type": "stream",
     "text": [
      "['TravelDB', 'admin', 'autosaurus', 'classDB', 'config', 'epa', 'fruits_db', 'local', 'met', 'petsitly_marketing', 'test', 'uk_food']\n"
     ]
    }
   ],
   "source": [
    "# confirm that our new database was created\n",
    "print(mongo.list_database_names())"
   ]
  },
  {
   "cell_type": "code",
   "execution_count": 85,
   "id": "71e373c1",
   "metadata": {},
   "outputs": [],
   "source": [
    "# assign the uk_food database to a variable name\n",
    "db = mongo['uk_food']"
   ]
  },
  {
   "cell_type": "code",
   "execution_count": 105,
   "id": "ef1b89ed",
   "metadata": {},
   "outputs": [
    {
     "name": "stdout",
     "output_type": "stream",
     "text": [
      "['establishments']\n"
     ]
    }
   ],
   "source": [
    "# review the collections in our new database\n",
    "pprint(db.list_collection_names())"
   ]
  },
  {
   "cell_type": "code",
   "execution_count": 106,
   "id": "18ab463c",
   "metadata": {},
   "outputs": [
    {
     "name": "stdout",
     "output_type": "stream",
     "text": [
      "['establishments']\n"
     ]
    }
   ],
   "source": [
    "# review the collections in our new database\n",
    "pprint(db.list_collection_names())"
   ]
  },
  {
   "cell_type": "code",
   "execution_count": 104,
   "id": "6a0d92df",
   "metadata": {},
   "outputs": [
    {
     "name": "stdout",
     "output_type": "stream",
     "text": [
      "{'AddressLine1': '23 The Stade',\n",
      " 'AddressLine2': 'Folkestone',\n",
      " 'AddressLine3': 'Kent',\n",
      " 'AddressLine4': '',\n",
      " 'BusinessName': 'The Ship',\n",
      " 'BusinessType': 'Pub/bar/nightclub',\n",
      " 'BusinessTypeID': 7843,\n",
      " 'ChangesByServerID': 0,\n",
      " 'Distance': 4591.912144538092,\n",
      " 'FHRSID': 289352,\n",
      " 'LocalAuthorityBusinessID': 'PI/000002460',\n",
      " 'LocalAuthorityCode': '188',\n",
      " 'LocalAuthorityEmailAddress': 'foodteam@folkestone-hythe.gov.uk',\n",
      " 'LocalAuthorityName': 'Folkestone and Hythe',\n",
      " 'LocalAuthorityWebSite': 'http://www.folkestone-hythe.gov.uk',\n",
      " 'NewRatingPending': False,\n",
      " 'Phone': '',\n",
      " 'PostCode': 'CT19 6AB',\n",
      " 'RatingDate': '2015-08-27T00:00:00',\n",
      " 'RatingKey': 'fhrs_5_en-gb',\n",
      " 'RatingValue': 5,\n",
      " 'RightToReply': '',\n",
      " 'SchemeType': 'FHRS',\n",
      " '_id': ObjectId('648fb1b077b5db01896f20c4'),\n",
      " 'geocode': {'latitude': Decimal128('51.08084'),\n",
      "             'longitude': Decimal128('1.188537')},\n",
      " 'links': [{'href': 'https://api.ratings.food.gov.uk/establishments/289352',\n",
      "            'rel': 'self'}],\n",
      " 'meta': {'dataSource': None,\n",
      "          'extractDate': '0001-01-01T00:00:00',\n",
      "          'itemCount': 0,\n",
      "          'pageNumber': 0,\n",
      "          'pageSize': 0,\n",
      "          'returncode': None,\n",
      "          'totalCount': 0,\n",
      "          'totalPages': 0},\n",
      " 'scores': {'ConfidenceInManagement': 5, 'Hygiene': 5, 'Structural': 5}}\n"
     ]
    }
   ],
   "source": [
    "# review a document in the establishments collection\n",
    "pprint(db.establishments.find_one())"
   ]
  },
  {
   "cell_type": "code",
   "execution_count": 89,
   "id": "11c9f11b",
   "metadata": {},
   "outputs": [],
   "source": [
    "# assign the collection to a variable\n",
    "establishments = db['establishments']"
   ]
  },
  {
   "attachments": {},
   "cell_type": "markdown",
   "id": "d5671434",
   "metadata": {},
   "source": [
    "## Part 2: Update the Database"
   ]
  },
  {
   "attachments": {},
   "cell_type": "markdown",
   "id": "314bd884",
   "metadata": {},
   "source": [
    "1. An exciting new halal restaurant just opened in Greenwich, but hasn't been rated yet. The magazine has asked you to include it in your analysis. Add the following restaurant \"Penang Flavours\" to the database."
   ]
  },
  {
   "cell_type": "code",
   "execution_count": 90,
   "id": "c2da7648",
   "metadata": {},
   "outputs": [],
   "source": [
    "# Create a dictionary for the new restaurant data\n",
    "new_restaurant = {\n",
    "    \"BusinessName\":\"Penang Flavours\",\n",
    "    \"BusinessType\":\"Restaurant/Cafe/Canteen\",\n",
    "    \"BusinessTypeID\":\"\",\n",
    "    \"AddressLine1\":\"Penang Flavours\",\n",
    "    \"AddressLine2\":\"146A Plumstead Rd\",\n",
    "    \"AddressLine3\":\"London\",\n",
    "    \"AddressLine4\":\"\",\n",
    "    \"PostCode\":\"SE18 7DY\",\n",
    "    \"Phone\":\"\",\n",
    "    \"LocalAuthorityCode\":\"511\",\n",
    "    \"LocalAuthorityName\":\"Greenwich\",\n",
    "    \"LocalAuthorityWebSite\":\"http://www.royalgreenwich.gov.uk\",\n",
    "    \"LocalAuthorityEmailAddress\":\"health@royalgreenwich.gov.uk\",\n",
    "    \"scores\":{\n",
    "        \"Hygiene\":\"\",\n",
    "        \"Structural\":\"\",\n",
    "        \"ConfidenceInManagement\":\"\"\n",
    "    },\n",
    "    \"SchemeType\":\"FHRS\",\n",
    "    \"geocode\":{\n",
    "        \"longitude\":\"0.08384000\",\n",
    "        \"latitude\":\"51.49014200\"\n",
    "    },\n",
    "    \"RightToReply\":\"\",\n",
    "    \"Distance\":4623.9723280747176,\n",
    "    \"NewRatingPending\":True\n",
    "}"
   ]
  },
  {
   "cell_type": "code",
   "execution_count": 91,
   "id": "a6e5cece",
   "metadata": {},
   "outputs": [
    {
     "data": {
      "text/plain": [
       "<pymongo.results.InsertOneResult at 0x1dbab727ee0>"
      ]
     },
     "execution_count": 91,
     "metadata": {},
     "output_type": "execute_result"
    }
   ],
   "source": [
    "# Insert the new restaurant into the collection\n",
    "establishments.insert_one(new_restaurant)"
   ]
  },
  {
   "cell_type": "code",
   "execution_count": 92,
   "id": "63bb10f9",
   "metadata": {},
   "outputs": [
    {
     "data": {
      "text/plain": [
       "{'_id': ObjectId('648fb1db7a59c513be73c96f'),\n",
       " 'BusinessName': 'Penang Flavours',\n",
       " 'BusinessType': 'Restaurant/Cafe/Canteen',\n",
       " 'BusinessTypeID': '',\n",
       " 'AddressLine1': 'Penang Flavours',\n",
       " 'AddressLine2': '146A Plumstead Rd',\n",
       " 'AddressLine3': 'London',\n",
       " 'AddressLine4': '',\n",
       " 'PostCode': 'SE18 7DY',\n",
       " 'Phone': '',\n",
       " 'LocalAuthorityCode': '511',\n",
       " 'LocalAuthorityName': 'Greenwich',\n",
       " 'LocalAuthorityWebSite': 'http://www.royalgreenwich.gov.uk',\n",
       " 'LocalAuthorityEmailAddress': 'health@royalgreenwich.gov.uk',\n",
       " 'scores': {'Hygiene': '', 'Structural': '', 'ConfidenceInManagement': ''},\n",
       " 'SchemeType': 'FHRS',\n",
       " 'geocode': {'longitude': '0.08384000', 'latitude': '51.49014200'},\n",
       " 'RightToReply': '',\n",
       " 'Distance': 4623.972328074718,\n",
       " 'NewRatingPending': True}"
      ]
     },
     "execution_count": 92,
     "metadata": {},
     "output_type": "execute_result"
    }
   ],
   "source": [
    "# Check that the new restaurant was inserted\n",
    "establishments.find_one({\"BusinessName\":\"Penang Flavours\"})"
   ]
  },
  {
   "attachments": {},
   "cell_type": "markdown",
   "id": "0ef4395a",
   "metadata": {},
   "source": [
    "2. Find the BusinessTypeID for \"Restaurant/Cafe/Canteen\" and return only the `BusinessTypeID` and `BusinessType` fields."
   ]
  },
  {
   "cell_type": "code",
   "execution_count": 93,
   "id": "93c63829",
   "metadata": {},
   "outputs": [
    {
     "name": "stdout",
     "output_type": "stream",
     "text": [
      "{'BusinessType': 'Restaurant/Cafe/Canteen',\n",
      " 'BusinessTypeID': 1,\n",
      " '_id': ObjectId('648fb1b077b5db01896f1de0')}\n"
     ]
    }
   ],
   "source": [
    "# Find the BusinessTypeID for \"Restaurant/Cafe/Canteen\" and return only the BusinessTypeID and BusinessType fields\n",
    "query = {'BusinessType' : \"Restaurant/Cafe/Canteen\"}\n",
    "fields = {'BusinessTypeID' : 1, 'BusinessType':1}\n",
    "results = establishments.find_one(query, fields)\n",
    "pprint(results)"
   ]
  },
  {
   "attachments": {},
   "cell_type": "markdown",
   "id": "4e570caf",
   "metadata": {},
   "source": [
    "3. Update the new restaurant with the `BusinessTypeID` you found."
   ]
  },
  {
   "cell_type": "code",
   "execution_count": 94,
   "id": "7f599f3d",
   "metadata": {},
   "outputs": [
    {
     "data": {
      "text/plain": [
       "<pymongo.results.UpdateResult at 0x1dbab727cd0>"
      ]
     },
     "execution_count": 94,
     "metadata": {},
     "output_type": "execute_result"
    }
   ],
   "source": [
    "# Update the new restaurant with the correct BusinessTypeID\n",
    "query = { \"BusinessName\":\"Penang Flavours\" }\n",
    "fields = { \"$set\": { 'BusinessTypeID': 1 } }\n",
    " \n",
    "# Using update_one() method for single update.\n",
    "establishments.update_one(query, fields)"
   ]
  },
  {
   "cell_type": "code",
   "execution_count": 95,
   "id": "a6ad16f7",
   "metadata": {},
   "outputs": [
    {
     "data": {
      "text/plain": [
       "{'_id': ObjectId('648fb1db7a59c513be73c96f'),\n",
       " 'BusinessName': 'Penang Flavours',\n",
       " 'BusinessType': 'Restaurant/Cafe/Canteen',\n",
       " 'BusinessTypeID': 1,\n",
       " 'AddressLine1': 'Penang Flavours',\n",
       " 'AddressLine2': '146A Plumstead Rd',\n",
       " 'AddressLine3': 'London',\n",
       " 'AddressLine4': '',\n",
       " 'PostCode': 'SE18 7DY',\n",
       " 'Phone': '',\n",
       " 'LocalAuthorityCode': '511',\n",
       " 'LocalAuthorityName': 'Greenwich',\n",
       " 'LocalAuthorityWebSite': 'http://www.royalgreenwich.gov.uk',\n",
       " 'LocalAuthorityEmailAddress': 'health@royalgreenwich.gov.uk',\n",
       " 'scores': {'Hygiene': '', 'Structural': '', 'ConfidenceInManagement': ''},\n",
       " 'SchemeType': 'FHRS',\n",
       " 'geocode': {'longitude': '0.08384000', 'latitude': '51.49014200'},\n",
       " 'RightToReply': '',\n",
       " 'Distance': 4623.972328074718,\n",
       " 'NewRatingPending': True}"
      ]
     },
     "execution_count": 95,
     "metadata": {},
     "output_type": "execute_result"
    }
   ],
   "source": [
    "# Confirm that the new restaurant was updated\n",
    "establishments.find_one({\"BusinessName\":\"Penang Flavours\"})"
   ]
  },
  {
   "attachments": {},
   "cell_type": "markdown",
   "id": "67281254",
   "metadata": {},
   "source": [
    "4. The magazine is not interested in any establishments in Dover, so check how many documents contain the Dover Local Authority. Then, remove any establishments within the Dover Local Authority from the database, and check the number of documents to ensure they were deleted."
   ]
  },
  {
   "cell_type": "code",
   "execution_count": 96,
   "id": "768474a6",
   "metadata": {},
   "outputs": [
    {
     "name": "stdout",
     "output_type": "stream",
     "text": [
      "994\n"
     ]
    }
   ],
   "source": [
    "# Find how many documents have LocalAuthorityName as \"Dover\"\n",
    "query2 = {'LocalAuthorityName': 'Dover'}\n",
    "\n",
    "# Capture the results to a variable\n",
    "results = establishments.count_documents(query2)\n",
    "\n",
    "# print the results\n",
    "pprint(results)"
   ]
  },
  {
   "cell_type": "code",
   "execution_count": 97,
   "id": "a11d5f1b",
   "metadata": {},
   "outputs": [
    {
     "data": {
      "text/plain": [
       "<pymongo.results.DeleteResult at 0x1dbabdbac20>"
      ]
     },
     "execution_count": 97,
     "metadata": {},
     "output_type": "execute_result"
    }
   ],
   "source": [
    "# Delete all documents where LocalAuthorityName is \"Dover\"\n",
    "establishments.delete_many(query2)"
   ]
  },
  {
   "cell_type": "code",
   "execution_count": 98,
   "id": "2a51aba0",
   "metadata": {},
   "outputs": [
    {
     "name": "stdout",
     "output_type": "stream",
     "text": [
      "0\n"
     ]
    }
   ],
   "source": [
    "# Check if any remaining documents include Dover\n",
    "print(establishments.count_documents(query2))"
   ]
  },
  {
   "cell_type": "code",
   "execution_count": 99,
   "id": "8c356f7b",
   "metadata": {},
   "outputs": [
    {
     "name": "stdout",
     "output_type": "stream",
     "text": [
      "{'AddressLine1': '23 The Stade',\n",
      " 'AddressLine2': 'Folkestone',\n",
      " 'AddressLine3': 'Kent',\n",
      " 'AddressLine4': '',\n",
      " 'BusinessName': 'The Ship',\n",
      " 'BusinessType': 'Pub/bar/nightclub',\n",
      " 'BusinessTypeID': 7843,\n",
      " 'ChangesByServerID': 0,\n",
      " 'Distance': 4591.912144538092,\n",
      " 'FHRSID': 289352,\n",
      " 'LocalAuthorityBusinessID': 'PI/000002460',\n",
      " 'LocalAuthorityCode': '188',\n",
      " 'LocalAuthorityEmailAddress': 'foodteam@folkestone-hythe.gov.uk',\n",
      " 'LocalAuthorityName': 'Folkestone and Hythe',\n",
      " 'LocalAuthorityWebSite': 'http://www.folkestone-hythe.gov.uk',\n",
      " 'NewRatingPending': False,\n",
      " 'Phone': '',\n",
      " 'PostCode': 'CT19 6AB',\n",
      " 'RatingDate': '2015-08-27T00:00:00',\n",
      " 'RatingKey': 'fhrs_5_en-gb',\n",
      " 'RatingValue': '5',\n",
      " 'RightToReply': '',\n",
      " 'SchemeType': 'FHRS',\n",
      " '_id': ObjectId('648fb1b077b5db01896f20c4'),\n",
      " 'geocode': {'latitude': '51.08084', 'longitude': '1.188537'},\n",
      " 'links': [{'href': 'https://api.ratings.food.gov.uk/establishments/289352',\n",
      "            'rel': 'self'}],\n",
      " 'meta': {'dataSource': None,\n",
      "          'extractDate': '0001-01-01T00:00:00',\n",
      "          'itemCount': 0,\n",
      "          'pageNumber': 0,\n",
      "          'pageSize': 0,\n",
      "          'returncode': None,\n",
      "          'totalCount': 0,\n",
      "          'totalPages': 0},\n",
      " 'scores': {'ConfidenceInManagement': 5, 'Hygiene': 5, 'Structural': 5}}\n"
     ]
    }
   ],
   "source": [
    "# Check that other documents remain with 'find_one'\n",
    "pprint(establishments.find_one())"
   ]
  },
  {
   "attachments": {},
   "cell_type": "markdown",
   "id": "e9f1662d",
   "metadata": {},
   "source": [
    "5. Some of the number values are stored as strings, when they should be stored as numbers."
   ]
  },
  {
   "attachments": {},
   "cell_type": "markdown",
   "id": "c46df2df",
   "metadata": {},
   "source": [
    "Use `update_many` to convert `latitude` and `longitude` to decimal numbers."
   ]
  },
  {
   "cell_type": "code",
   "execution_count": 100,
   "id": "fd4112ce",
   "metadata": {},
   "outputs": [
    {
     "data": {
      "text/plain": [
       "<pymongo.results.UpdateResult at 0x1dbab7277f0>"
      ]
     },
     "execution_count": 100,
     "metadata": {},
     "output_type": "execute_result"
    }
   ],
   "source": [
    "# Change the data type from String to Decimal for longitude and latitude\n",
    "establishments.update_many({}, [ {'$set': { \"geocode.longitude\" : {'$toDecimal': \"$geocode.longitude\"}}}])\n",
    "establishments.update_many({}, [ {'$set': { \"geocode.latitude\" : {'$toDecimal': \"$geocode.latitude\"}}}])"
   ]
  },
  {
   "attachments": {},
   "cell_type": "markdown",
   "id": "142e319c",
   "metadata": {},
   "source": [
    "Use `update_many` to convert `RatingValue` to integer numbers."
   ]
  },
  {
   "cell_type": "code",
   "execution_count": 101,
   "id": "04430a5b",
   "metadata": {},
   "outputs": [
    {
     "data": {
      "text/plain": [
       "<pymongo.results.UpdateResult at 0x1dbab727940>"
      ]
     },
     "execution_count": 101,
     "metadata": {},
     "output_type": "execute_result"
    }
   ],
   "source": [
    "# Set non 1-5 Rating Values to Null\n",
    "non_ratings = [\"AwaitingInspection\", \"Awaiting Inspection\", \"AwaitingPublication\", \"Pass\", \"Exempt\"]\n",
    "establishments.update_many({\"RatingValue\": {\"$in\": non_ratings}}, [ {'$set':{ \"RatingValue\" : None}} ])"
   ]
  },
  {
   "cell_type": "code",
   "execution_count": 102,
   "id": "92524ccc",
   "metadata": {},
   "outputs": [
    {
     "data": {
      "text/plain": [
       "<pymongo.results.UpdateResult at 0x1dbab4a1ba0>"
      ]
     },
     "execution_count": 102,
     "metadata": {},
     "output_type": "execute_result"
    }
   ],
   "source": [
    "# Change the data type from String to Integer for RatingValue\n",
    "establishments.update_many({}, [ {'$set': { \"RatingValue\" : {'$toInt': \"$RatingValue\"}}}])"
   ]
  },
  {
   "cell_type": "code",
   "execution_count": 103,
   "id": "0deacaf9",
   "metadata": {},
   "outputs": [
    {
     "data": {
      "text/plain": [
       "{'_id': ObjectId('648fb1b077b5db01896f20c4'),\n",
       " 'FHRSID': 289352,\n",
       " 'ChangesByServerID': 0,\n",
       " 'LocalAuthorityBusinessID': 'PI/000002460',\n",
       " 'BusinessName': 'The Ship',\n",
       " 'BusinessType': 'Pub/bar/nightclub',\n",
       " 'BusinessTypeID': 7843,\n",
       " 'AddressLine1': '23 The Stade',\n",
       " 'AddressLine2': 'Folkestone',\n",
       " 'AddressLine3': 'Kent',\n",
       " 'AddressLine4': '',\n",
       " 'PostCode': 'CT19 6AB',\n",
       " 'Phone': '',\n",
       " 'RatingValue': 5,\n",
       " 'RatingKey': 'fhrs_5_en-gb',\n",
       " 'RatingDate': '2015-08-27T00:00:00',\n",
       " 'LocalAuthorityCode': '188',\n",
       " 'LocalAuthorityName': 'Folkestone and Hythe',\n",
       " 'LocalAuthorityWebSite': 'http://www.folkestone-hythe.gov.uk',\n",
       " 'LocalAuthorityEmailAddress': 'foodteam@folkestone-hythe.gov.uk',\n",
       " 'scores': {'Hygiene': 5, 'Structural': 5, 'ConfidenceInManagement': 5},\n",
       " 'SchemeType': 'FHRS',\n",
       " 'geocode': {'longitude': Decimal128('1.188537'),\n",
       "  'latitude': Decimal128('51.08084')},\n",
       " 'RightToReply': '',\n",
       " 'Distance': 4591.912144538092,\n",
       " 'NewRatingPending': False,\n",
       " 'meta': {'dataSource': None,\n",
       "  'extractDate': '0001-01-01T00:00:00',\n",
       "  'itemCount': 0,\n",
       "  'returncode': None,\n",
       "  'totalCount': 0,\n",
       "  'totalPages': 0,\n",
       "  'pageSize': 0,\n",
       "  'pageNumber': 0},\n",
       " 'links': [{'rel': 'self',\n",
       "   'href': 'https://api.ratings.food.gov.uk/establishments/289352'}]}"
      ]
     },
     "execution_count": 103,
     "metadata": {},
     "output_type": "execute_result"
    }
   ],
   "source": [
    "# Check that the coordinates and rating value are now numbers\n",
    "establishments.find_one()"
   ]
  }
 ],
 "metadata": {
  "kernelspec": {
   "display_name": "Python 3 (ipykernel)",
   "language": "python",
   "name": "python3"
  },
  "language_info": {
   "codemirror_mode": {
    "name": "ipython",
    "version": 3
   },
   "file_extension": ".py",
   "mimetype": "text/x-python",
   "name": "python",
   "nbconvert_exporter": "python",
   "pygments_lexer": "ipython3",
   "version": "3.11.2"
  }
 },
 "nbformat": 4,
 "nbformat_minor": 5
}
